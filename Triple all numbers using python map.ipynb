{
 "cells": [
  {
   "cell_type": "markdown",
   "id": "5e338635",
   "metadata": {},
   "source": [
    "### Write a Python program to triple all numbers of a given list of integers. Use Python map."
   ]
  },
  {
   "cell_type": "markdown",
   "id": "d5fdda6d",
   "metadata": {},
   "source": [
    "##### sample list: [1, 2, 3, 4, 5, 6, 7]\n",
    "\n",
    "##### Triple of list numbers:\n",
    "\n",
    "##### [3, 6, 9, 12, 15, 18, 21]\n",
    "\n"
   ]
  },
  {
   "cell_type": "code",
   "execution_count": 3,
   "id": "c4382e8c",
   "metadata": {},
   "outputs": [],
   "source": [
    "def triple(num):\n",
    "    return num*3"
   ]
  },
  {
   "cell_type": "code",
   "execution_count": 4,
   "id": "1af2e5d5",
   "metadata": {},
   "outputs": [],
   "source": [
    "sample_list = [1,2,3,4,5,6,7]"
   ]
  },
  {
   "cell_type": "code",
   "execution_count": 5,
   "id": "30b0541e",
   "metadata": {},
   "outputs": [],
   "source": [
    "value = list(map(triple,sample_list))"
   ]
  },
  {
   "cell_type": "code",
   "execution_count": 6,
   "id": "a09af2bd",
   "metadata": {},
   "outputs": [
    {
     "name": "stdout",
     "output_type": "stream",
     "text": [
      "[3, 6, 9, 12, 15, 18, 21]\n"
     ]
    }
   ],
   "source": [
    "print(value)"
   ]
  },
  {
   "cell_type": "code",
   "execution_count": null,
   "id": "ccea14ac",
   "metadata": {},
   "outputs": [],
   "source": []
  }
 ],
 "metadata": {
  "kernelspec": {
   "display_name": "Python 3 (ipykernel)",
   "language": "python",
   "name": "python3"
  },
  "language_info": {
   "codemirror_mode": {
    "name": "ipython",
    "version": 3
   },
   "file_extension": ".py",
   "mimetype": "text/x-python",
   "name": "python",
   "nbconvert_exporter": "python",
   "pygments_lexer": "ipython3",
   "version": "3.9.7"
  }
 },
 "nbformat": 4,
 "nbformat_minor": 5
}
