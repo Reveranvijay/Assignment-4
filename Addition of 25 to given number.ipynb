{
 "cells": [
  {
   "cell_type": "markdown",
   "id": "8434a61e",
   "metadata": {},
   "source": [
    "## Write a Python program to create a lambda function that adds 25 to a given number passed in as an argument."
   ]
  },
  {
   "cell_type": "markdown",
   "id": "caf7fb9b",
   "metadata": {},
   "source": [
    "### sample input: 10\n",
    "\n",
    "### sample output: 35"
   ]
  },
  {
   "cell_type": "code",
   "execution_count": 19,
   "id": "31935440",
   "metadata": {},
   "outputs": [],
   "source": [
    "l = 10"
   ]
  },
  {
   "cell_type": "code",
   "execution_count": 20,
   "id": "f2c5ba0c",
   "metadata": {},
   "outputs": [
    {
     "data": {
      "text/plain": [
       "<function __main__.<lambda>(x)>"
      ]
     },
     "execution_count": 20,
     "metadata": {},
     "output_type": "execute_result"
    }
   ],
   "source": [
    "lambda x:x+25"
   ]
  },
  {
   "cell_type": "code",
   "execution_count": 31,
   "id": "191bf3c5",
   "metadata": {},
   "outputs": [],
   "source": [
    "def num(x):\n",
    "    return x+25"
   ]
  },
  {
   "cell_type": "code",
   "execution_count": 36,
   "id": "5d542f82",
   "metadata": {},
   "outputs": [
    {
     "name": "stdout",
     "output_type": "stream",
     "text": [
      "35\n"
     ]
    }
   ],
   "source": [
    "print(num(l))"
   ]
  },
  {
   "cell_type": "code",
   "execution_count": null,
   "id": "c82be524",
   "metadata": {},
   "outputs": [],
   "source": []
  }
 ],
 "metadata": {
  "kernelspec": {
   "display_name": "Python 3 (ipykernel)",
   "language": "python",
   "name": "python3"
  },
  "language_info": {
   "codemirror_mode": {
    "name": "ipython",
    "version": 3
   },
   "file_extension": ".py",
   "mimetype": "text/x-python",
   "name": "python",
   "nbconvert_exporter": "python",
   "pygments_lexer": "ipython3",
   "version": "3.9.7"
  }
 },
 "nbformat": 4,
 "nbformat_minor": 5
}
