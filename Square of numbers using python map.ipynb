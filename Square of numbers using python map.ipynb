{
 "cells": [
  {
   "cell_type": "markdown",
   "id": "ca50e953",
   "metadata": {},
   "source": [
    "### Write a Python program to square the elements of a list using map() function.\n",
    "\n"
   ]
  },
  {
   "cell_type": "markdown",
   "id": "bfdba8f3",
   "metadata": {},
   "source": [
    "#### Sample List: [4, 5, 2, 9]\n",
    "\n",
    "#### Square the elements of the list:\n",
    "\n",
    "#### [16, 25, 4, 81]"
   ]
  },
  {
   "cell_type": "code",
   "execution_count": 1,
   "id": "4f4dd139",
   "metadata": {},
   "outputs": [],
   "source": [
    "def square(num):\n",
    "    return num**2"
   ]
  },
  {
   "cell_type": "code",
   "execution_count": 2,
   "id": "f0f2b952",
   "metadata": {},
   "outputs": [],
   "source": [
    "sample_list = [4,5,2,9]"
   ]
  },
  {
   "cell_type": "code",
   "execution_count": 3,
   "id": "697cadd9",
   "metadata": {},
   "outputs": [],
   "source": [
    "val = list(map(square,sample_list))"
   ]
  },
  {
   "cell_type": "code",
   "execution_count": 5,
   "id": "f4fa15a8",
   "metadata": {},
   "outputs": [
    {
     "name": "stdout",
     "output_type": "stream",
     "text": [
      "[16, 25, 4, 81]\n"
     ]
    }
   ],
   "source": [
    "print(val)"
   ]
  },
  {
   "cell_type": "code",
   "execution_count": null,
   "id": "bf8e80b5",
   "metadata": {},
   "outputs": [],
   "source": []
  }
 ],
 "metadata": {
  "kernelspec": {
   "display_name": "Python 3 (ipykernel)",
   "language": "python",
   "name": "python3"
  },
  "language_info": {
   "codemirror_mode": {
    "name": "ipython",
    "version": 3
   },
   "file_extension": ".py",
   "mimetype": "text/x-python",
   "name": "python",
   "nbconvert_exporter": "python",
   "pygments_lexer": "ipython3",
   "version": "3.9.7"
  }
 },
 "nbformat": 4,
 "nbformat_minor": 5
}
